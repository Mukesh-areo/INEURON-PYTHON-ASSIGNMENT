{
 "cells": [
  {
   "cell_type": "markdown",
   "id": "de3b2cf6",
   "metadata": {},
   "source": [
    "## PYTHON BASIC ASSIGNMENT-4\n"
   ]
  },
  {
   "cell_type": "markdown",
   "id": "c105bc08",
   "metadata": {},
   "source": [
    "### 1. What exactly is []?\n",
    "        [] is a emplty list, like a =[]"
   ]
  },
  {
   "cell_type": "markdown",
   "id": "2eb1e4b0",
   "metadata": {},
   "source": [
    "### 2. In a list of values stored in a variable called spam, how would you assign the value 'hello' as the third value? (Assume [2, 4, 6, 8, 10] are in spam.)"
   ]
  },
  {
   "cell_type": "code",
   "execution_count": 8,
   "id": "22d0db1a",
   "metadata": {},
   "outputs": [
    {
     "data": {
      "text/plain": [
       "[2, 3, 'hello', 8, 10]"
      ]
     },
     "execution_count": 8,
     "metadata": {},
     "output_type": "execute_result"
    }
   ],
   "source": [
    "# solution by changing the value in index 3\n",
    "spam=[2,3,6,8,10]\n",
    "spam[2]=\"hello\"\n",
    "spam\n"
   ]
  },
  {
   "cell_type": "code",
   "execution_count": 9,
   "id": "3009cdc9",
   "metadata": {},
   "outputs": [
    {
     "data": {
      "text/plain": [
       "[2, 3, 'hello', 6, 8, 10]"
      ]
     },
     "execution_count": 9,
     "metadata": {},
     "output_type": "execute_result"
    }
   ],
   "source": [
    "# solution by inserting value in 3rd index\n",
    "spam=[2,3,6,8,10]\n",
    "spam.insert(2,\"hello\")\n",
    "spam"
   ]
  },
  {
   "cell_type": "markdown",
   "id": "62a4cbcf",
   "metadata": {},
   "source": [
    "### Let's pretend the spam includes the list ['a', 'b', 'c', 'd'] for the next three queries."
   ]
  },
  {
   "cell_type": "markdown",
   "id": "0ae5af3d",
   "metadata": {},
   "source": [
    "### 3. What is the value of spam[int(int('3' * 2) / 11)]?\n"
   ]
  },
  {
   "cell_type": "code",
   "execution_count": 10,
   "id": "9d2d6d3d",
   "metadata": {},
   "outputs": [
    {
     "data": {
      "text/plain": [
       "'d'"
      ]
     },
     "execution_count": 10,
     "metadata": {},
     "output_type": "execute_result"
    }
   ],
   "source": [
    "spam=['a','b','c','d']\n",
    "spam[int(int('3' * 2) / 11)]# spam[33/11]=spam[3]"
   ]
  },
  {
   "cell_type": "markdown",
   "id": "9dd6f2ce",
   "metadata": {},
   "source": [
    "### 4. What is the value of spam[-1]?"
   ]
  },
  {
   "cell_type": "code",
   "execution_count": 11,
   "id": "9b29a84d",
   "metadata": {},
   "outputs": [
    {
     "data": {
      "text/plain": [
       "'d'"
      ]
     },
     "execution_count": 11,
     "metadata": {},
     "output_type": "execute_result"
    }
   ],
   "source": [
    "spam[-1] # -1 index value is \"d\""
   ]
  },
  {
   "cell_type": "markdown",
   "id": "b16754b4",
   "metadata": {},
   "source": [
    "### 5. What is the value of spam[:2]?"
   ]
  },
  {
   "cell_type": "code",
   "execution_count": 12,
   "id": "2bd83a88",
   "metadata": {},
   "outputs": [
    {
     "data": {
      "text/plain": [
       "['a', 'b']"
      ]
     },
     "execution_count": 12,
     "metadata": {},
     "output_type": "execute_result"
    }
   ],
   "source": [
    "spam[:2]"
   ]
  },
  {
   "cell_type": "markdown",
   "id": "de6249d0",
   "metadata": {},
   "source": [
    "### Let's pretend bacon has the list [3.14, 'cat,' 11, 'cat,' True] for the next three questions."
   ]
  },
  {
   "cell_type": "code",
   "execution_count": 15,
   "id": "ee58e745",
   "metadata": {},
   "outputs": [],
   "source": [
    "bacon=[3.14, 'cat', 11, 'cat' ,True]"
   ]
  },
  {
   "cell_type": "markdown",
   "id": "728393a2",
   "metadata": {},
   "source": [
    "### 6. What is the value of bacon.index('cat')?"
   ]
  },
  {
   "cell_type": "code",
   "execution_count": 16,
   "id": "fad0eedd",
   "metadata": {},
   "outputs": [
    {
     "data": {
      "text/plain": [
       "1"
      ]
     },
     "execution_count": 16,
     "metadata": {},
     "output_type": "execute_result"
    }
   ],
   "source": [
    "bacon.index('cat') # index 1"
   ]
  },
  {
   "cell_type": "markdown",
   "id": "c5061c2b",
   "metadata": {},
   "source": [
    "### 7. How does bacon.append(99) change the look of the list value in bacon?"
   ]
  },
  {
   "cell_type": "code",
   "execution_count": 22,
   "id": "ed25d3de",
   "metadata": {},
   "outputs": [
    {
     "data": {
      "text/plain": [
       "[3.14, 'cat', 11, 'cat', True, 99]"
      ]
     },
     "execution_count": 22,
     "metadata": {},
     "output_type": "execute_result"
    }
   ],
   "source": [
    "bacon=[3.14, 'cat', 11, 'cat' ,True]\n",
    "bacon.append(99) #append adds the item at the end of the list\n",
    "bacon"
   ]
  },
  {
   "cell_type": "markdown",
   "id": "0a61c9cc",
   "metadata": {},
   "source": [
    "### 8. How does bacon.remove('cat') change the look of the list in bacon?"
   ]
  },
  {
   "cell_type": "code",
   "execution_count": 23,
   "id": "e4201a69",
   "metadata": {},
   "outputs": [
    {
     "data": {
      "text/plain": [
       "[3.14, 11, 'cat', True]"
      ]
     },
     "execution_count": 23,
     "metadata": {},
     "output_type": "execute_result"
    }
   ],
   "source": [
    "bacon=[3.14, 'cat', 11, 'cat' ,True]\n",
    "bacon.remove('cat')# removes first occurrence of the item\n",
    "bacon"
   ]
  },
  {
   "cell_type": "markdown",
   "id": "00e338ae",
   "metadata": {},
   "source": [
    "### 9. What are the list concatenation and list replication operators?\n",
    "        * -> is list replication operatotor\n",
    "        + -> is list cancatination operator"
   ]
  },
  {
   "cell_type": "code",
   "execution_count": 24,
   "id": "991af34d",
   "metadata": {},
   "outputs": [
    {
     "data": {
      "text/plain": [
       "[1, 2, 3, 3, 2, 4, 5, 6]"
      ]
     },
     "execution_count": 24,
     "metadata": {},
     "output_type": "execute_result"
    }
   ],
   "source": [
    "a=[1,2,3,3]\n",
    "b=[2,4,5,6]\n",
    "c=a+b  #list cancatination operator\n",
    "c"
   ]
  },
  {
   "cell_type": "code",
   "execution_count": 25,
   "id": "5bc3d38e",
   "metadata": {},
   "outputs": [
    {
     "data": {
      "text/plain": [
       "[1, 2, 3, 3, 1, 2, 3, 3]"
      ]
     },
     "execution_count": 25,
     "metadata": {},
     "output_type": "execute_result"
    }
   ],
   "source": [
    "d=a*2 #list replication operatotor\n",
    "d"
   ]
  },
  {
   "cell_type": "markdown",
   "id": "bc2e61ee",
   "metadata": {},
   "source": [
    "### 10. What is difference between the list methods append() and insert()?\n",
    "            append() ->Appends object to the end of the list\n",
    "            insert() -> Insert object before index"
   ]
  },
  {
   "cell_type": "code",
   "execution_count": 26,
   "id": "b7f4518c",
   "metadata": {},
   "outputs": [
    {
     "data": {
      "text/plain": [
       "[3.14, 'cat', 11, 'cat', True, 99]"
      ]
     },
     "execution_count": 26,
     "metadata": {},
     "output_type": "execute_result"
    }
   ],
   "source": [
    "bacon = [3.14, 'cat', 11, 'cat', True]\n",
    "bacon.append(99) # append adds the item at the end of the list\n",
    "bacon"
   ]
  },
  {
   "cell_type": "code",
   "execution_count": 27,
   "id": "b6d1c8cd",
   "metadata": {},
   "outputs": [
    {
     "data": {
      "text/plain": [
       "[2, 4, 'hello', 6, 8, 10]"
      ]
     },
     "execution_count": 27,
     "metadata": {},
     "output_type": "execute_result"
    }
   ],
   "source": [
    "# solution by inserting value in 3rd index\n",
    "spam = [2, 4, 6, 8, 10]\n",
    "spam.insert(2,'hello')\n",
    "spam"
   ]
  },
  {
   "cell_type": "markdown",
   "id": "3a38abf1",
   "metadata": {},
   "source": [
    "### 11. What are the two methods for removing items from a list?\n",
    "    remove(item) - removeds first occurence of a item\n",
    "    pop() - Remove and returns item at index (default last).\n",
    "    del(list) - deletes the list\n",
    "    "
   ]
  },
  {
   "cell_type": "code",
   "execution_count": 28,
   "id": "9ab7ecf2",
   "metadata": {},
   "outputs": [
    {
     "data": {
      "text/plain": [
       "[3.14, 11, 'cat', True]"
      ]
     },
     "execution_count": 28,
     "metadata": {},
     "output_type": "execute_result"
    }
   ],
   "source": [
    "bacon = [3.14, 'cat', 11, 'cat', True]\n",
    "bacon.remove('cat')\n",
    "bacon"
   ]
  },
  {
   "cell_type": "code",
   "execution_count": 29,
   "id": "f9c5ada1",
   "metadata": {},
   "outputs": [
    {
     "data": {
      "text/plain": [
       "[3.14, 'cat', 11, 'cat']"
      ]
     },
     "execution_count": 29,
     "metadata": {},
     "output_type": "execute_result"
    }
   ],
   "source": [
    "bacon = [3.14, 'cat', 11, 'cat', True]\n",
    "bacon.pop()\n",
    "bacon"
   ]
  },
  {
   "cell_type": "markdown",
   "id": "49166b69",
   "metadata": {},
   "source": [
    "### 12. Describe how list values and string values are identical.\n",
    "1. Both lists and strings can be passed to len()\n",
    "2. Have indexes and slices\n",
    "3. Can be used in for loops\n",
    "4. Can be concatenated or replicated\n",
    "5. Can be used with the in and not in operators"
   ]
  },
  {
   "cell_type": "markdown",
   "id": "a58c7bec",
   "metadata": {},
   "source": [
    "### 13. What's the difference between tuples and lists?\n",
    "    Lists :\n",
    "    are mutable - they can have values added, removed, or changed. \n",
    "    lists use the square brackets, [ and ]\n",
    "    Tuples :\n",
    "    are immutable; they cannot be changed at all. \n",
    "    Tuples are written using parentheses, ( and ) while "
   ]
  },
  {
   "cell_type": "markdown",
   "id": "259afb22",
   "metadata": {},
   "source": [
    "### 14. How do you type a tuple value that only contains the integer 42?"
   ]
  },
  {
   "cell_type": "code",
   "execution_count": 36,
   "id": "433f7c90",
   "metadata": {},
   "outputs": [
    {
     "data": {
      "text/plain": [
       "(42,)"
      ]
     },
     "execution_count": 36,
     "metadata": {},
     "output_type": "execute_result"
    }
   ],
   "source": [
    "t=(42,)\n",
    "t"
   ]
  },
  {
   "cell_type": "markdown",
   "id": "8dcd901c",
   "metadata": {},
   "source": [
    "### 15. How do you get a list value's tuple form? How do you get a tuple value's list form?"
   ]
  },
  {
   "cell_type": "code",
   "execution_count": 40,
   "id": "7d135663",
   "metadata": {},
   "outputs": [
    {
     "data": {
      "text/plain": [
       "(2, 3)"
      ]
     },
     "execution_count": 40,
     "metadata": {},
     "output_type": "execute_result"
    }
   ],
   "source": [
    "#by using tuple() and list () function\n",
    "l1=[2,3]\n",
    "l=tuple(l1)\n",
    "l\n"
   ]
  },
  {
   "cell_type": "code",
   "execution_count": 41,
   "id": "d43589b7",
   "metadata": {},
   "outputs": [
    {
     "data": {
      "text/plain": [
       "[4, 5]"
      ]
     },
     "execution_count": 41,
     "metadata": {},
     "output_type": "execute_result"
    }
   ],
   "source": [
    "l2=(4,5)\n",
    "k=list(l2)\n",
    "k"
   ]
  },
  {
   "cell_type": "markdown",
   "id": "2c206b24",
   "metadata": {},
   "source": [
    "### 16. Variables that \"contain\" list values are not necessarily lists themselves. Instead, what do they contain?\n",
    "           They contain references to list values"
   ]
  },
  {
   "cell_type": "markdown",
   "id": "ef9e8875",
   "metadata": {},
   "source": [
    "### 17. How do you distinguish between copy.copy() and copy.deepcopy()?\n",
    "       The copy.copy() function will do a shallow copy of a list, \n",
    "       The copy.deepcopy() function will do a deep copy of a list. only copy.deepcopy() will duplicate any lists inside the list"
   ]
  }
 ],
 "metadata": {
  "kernelspec": {
   "display_name": "Python 3",
   "language": "python",
   "name": "python3"
  },
  "language_info": {
   "codemirror_mode": {
    "name": "ipython",
    "version": 3
   },
   "file_extension": ".py",
   "mimetype": "text/x-python",
   "name": "python",
   "nbconvert_exporter": "python",
   "pygments_lexer": "ipython3",
   "version": "3.8.8"
  }
 },
 "nbformat": 4,
 "nbformat_minor": 5
}
