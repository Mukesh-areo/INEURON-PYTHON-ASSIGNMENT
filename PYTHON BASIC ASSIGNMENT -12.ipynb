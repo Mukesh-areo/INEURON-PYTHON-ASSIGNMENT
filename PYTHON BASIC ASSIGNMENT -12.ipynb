{
 "cells": [
  {
   "cell_type": "markdown",
   "id": "488b56d3",
   "metadata": {},
   "source": [
    "### PYTHON BASIC ASSIGNMENT-12 "
   ]
  },
  {
   "cell_type": "markdown",
   "id": "b6458e2b",
   "metadata": {},
   "source": [
    "### 1. In what modes should the PdfFileReader() and PdfFileWriter() File objects will be opened?\n",
    "These files will be opened in binary mode., read binary (rb) for PdfFileREader() and write binary (wb) PdfFileWriter()\n",
    "\n"
   ]
  },
  {
   "cell_type": "markdown",
   "id": "1c4f00b1",
   "metadata": {},
   "source": [
    "### 2. From a PdfFileReader object, how do you get a Page object for page 5?\n",
    "Calling getPage(4) will return a Page object for page 5 since page 0 is the first page"
   ]
  },
  {
   "cell_type": "code",
   "execution_count": 16,
   "id": "42c3de1c",
   "metadata": {},
   "outputs": [
    {
     "data": {
      "text/plain": [
       "'1) For details of Hotel Policy, Other Hotel Amenities and T&C, Click Here2) 5 percentage Discount for loggedin users for all channels.CANCELLATION POLICYFrom 2019-11-23 12:00:00 to 2019-11-24 12:00:00,100% penalty will be charged.In case of no show : no refund.Booking cannot be cancelled/modified on or after the check in date and time mentioned in the Hotel Confirmation Voucher. All time mentioned above is in destination time.Cancellation charges will apply (Refer policy below)PAYMENT DETAILSPRICE BREAKUP (in INR)Accommodation charges collected on behalf of Hotel (incl. applicable Hotel taxes)2553MMT Service Fee182Reversal of Makemytrip service fee-182Effective discount-92TOTAL2461Full Amount of INR 2461 Has already been Paid.Add Meal / Add GuestsStandard Room2 AdultsHousekeeping, Mineral Water, TV, Chair + 4Meal Plan: BreakfastFREE BreakfastAccommodation1 ROOMManage Your Bookings Anytime, Anywhere from our App by going to TRIPS or visit http://supportz.makemytrip.com on DesktopOTHER IMPORTANT INFOReach outMakeMyTrip Contact Numbers+911244628747 (India Fixed Line) | +91124 5045105 (India Paid Number)'"
      ]
     },
     "execution_count": 16,
     "metadata": {},
     "output_type": "execute_result"
    }
   ],
   "source": [
    "import PyPDF2 as pdf\n",
    "pdfFileObj = open(\"NH7214241022714.pdf\",'rb')\n",
    "pdfReader = pdf.PdfFileReader(pdfFileObj)\n",
    "pageObj = pdfReader.getPage(1)\n",
    "pageObj.extractText()"
   ]
  },
  {
   "cell_type": "markdown",
   "id": "ad47adcd",
   "metadata": {},
   "source": [
    "### 3. What PdfFileReader variable stores the number of pages in the PDF document?\n",
    "The PdfFileReader.numPages variable stores an integer of the number of pages in the PdfFileReader object"
   ]
  },
  {
   "cell_type": "code",
   "execution_count": 17,
   "id": "c1409788",
   "metadata": {},
   "outputs": [
    {
     "data": {
      "text/plain": [
       "2"
      ]
     },
     "execution_count": 17,
     "metadata": {},
     "output_type": "execute_result"
    }
   ],
   "source": [
    "import PyPDF2 as pdf\n",
    "pdfFileObj = open(\"NH7214241022714.pdf\",'rb')\n",
    "pdfReader = pdf.PdfFileReader(pdfFileObj)\n",
    "pdfReader.numPages"
   ]
  },
  {
   "cell_type": "markdown",
   "id": "b017a3e4",
   "metadata": {},
   "source": [
    "### 4. If a PdfFileReader object’s PDF is encrypted with the password swordfish, what must you do before you can obtain Page objects from it?\n",
    "before we obtain the page object, the pdf has to be decrypted by calling .decrypt('swordfish')\n",
    "\n",
    "pdfReader.decrypt('swordfish')"
   ]
  },
  {
   "cell_type": "markdown",
   "id": "8900a8be",
   "metadata": {},
   "source": [
    "### 5. What methods do you use to rotate a page?\n",
    "The rotateClockwise() and rotateCounterClockwise() methods. The degrees to rotate is passed as an integer argument\n",
    "\n",
    "pageObj.rotateClockwise(180)"
   ]
  },
  {
   "cell_type": "markdown",
   "id": "f5ddb0b9",
   "metadata": {},
   "source": [
    "### 6. What is the difference between a Run object and a Paragraph object?\n",
    "Paragraph Object :  A document contains multiple paragraphs. A paragraph begins on a new line and contains multiple \n",
    "runs. \n",
    "The Document object contains a list of Paragraph objects for the paragraphs in the document. (A new paragraph begins \n",
    "whenever the user presses ENTER or RETURN while typing in a Word document.)\n",
    "\n",
    "Run Objects :\n",
    "Runs are contiguous groups of characters within a paragraph with the same style"
   ]
  },
  {
   "cell_type": "markdown",
   "id": "9ddfffe3",
   "metadata": {},
   "source": [
    "### 7. How do you obtain a list of Paragraph objects for a Document object that’s stored in a variable named doc?\n",
    " By using doc.paragraphs"
   ]
  },
  {
   "cell_type": "code",
   "execution_count": 21,
   "id": "7ef19ec0",
   "metadata": {},
   "outputs": [
    {
     "data": {
      "text/plain": [
       "[<docx.text.paragraph.Paragraph at 0x1e296b96100>,\n",
       " <docx.text.paragraph.Paragraph at 0x1e296b96cd0>,\n",
       " <docx.text.paragraph.Paragraph at 0x1e296b96fa0>,\n",
       " <docx.text.paragraph.Paragraph at 0x1e296b96a00>,\n",
       " <docx.text.paragraph.Paragraph at 0x1e296b96dc0>,\n",
       " <docx.text.paragraph.Paragraph at 0x1e296b967c0>,\n",
       " <docx.text.paragraph.Paragraph at 0x1e296b96c70>,\n",
       " <docx.text.paragraph.Paragraph at 0x1e296b96b50>,\n",
       " <docx.text.paragraph.Paragraph at 0x1e296b96700>,\n",
       " <docx.text.paragraph.Paragraph at 0x1e296b96d30>,\n",
       " <docx.text.paragraph.Paragraph at 0x1e296b96940>,\n",
       " <docx.text.paragraph.Paragraph at 0x1e296b963d0>,\n",
       " <docx.text.paragraph.Paragraph at 0x1e296b96850>]"
      ]
     },
     "execution_count": 21,
     "metadata": {},
     "output_type": "execute_result"
    }
   ],
   "source": [
    "\n",
    "import docx\n",
    "doc = docx.Document('Assignment_12.docx')\n",
    "doc.paragraphs"
   ]
  },
  {
   "cell_type": "markdown",
   "id": "4cf3d317",
   "metadata": {},
   "source": [
    "### 8. What type of object has bold, underline, italic, strike, and outline variables?\n",
    "A Run object has bold, underline,italic,strike and outline variables"
   ]
  },
  {
   "cell_type": "markdown",
   "id": "7d401b3d",
   "metadata": {},
   "source": [
    "### 9. What is the difference between False, True, and None for the bold variable?\n",
    "Runs can be further styled using text attributes. Each attribute can be set to one of three values: \n",
    "True (the attribute is always enabled, no matter what other styles are applied to the run), \n",
    "False (the attribute is always disabled),\n",
    "None (defaults to whatever the run’s style is set to)\n",
    "\n",
    "True always makes the Run object bolded and False makes it always not bolded, no matter what the style’s bold setting is. None will make the Run object just use the style’s bold setting"
   ]
  },
  {
   "cell_type": "markdown",
   "id": "975aaefd",
   "metadata": {},
   "source": [
    "### 10. How do you create a Document object for a new Word document?\n",
    "By Calling the docx.Document() function."
   ]
  },
  {
   "cell_type": "markdown",
   "id": "51ddb4d1",
   "metadata": {},
   "source": [
    "### 11. How do you add a paragraph with the text 'Hello, there!' to a Document object stored in a variable named doc?\n"
   ]
  },
  {
   "cell_type": "code",
   "execution_count": 24,
   "id": "c4808bc8",
   "metadata": {},
   "outputs": [],
   "source": [
    "import docx\n",
    "doc = docx.Document()\n",
    "\n",
    "doc.add_paragraph('Hello there!')\n",
    "doc.save('hellothere.docx')"
   ]
  },
  {
   "cell_type": "markdown",
   "id": "32150527",
   "metadata": {},
   "source": [
    "### 12. What integers represent the levels of headings available in Word documents?\n",
    "integer from 0 to 4\n",
    "\n",
    "The arguments to add_heading() are a string of the heading text and an integer from 0 to 4. The integer 0 makes the heading the Title style, which is used for the top of the document. Integers 1 to 4 are for various heading levels, with 1 being the main heading and 4 the lowest subheading"
   ]
  },
  {
   "cell_type": "code",
   "execution_count": null,
   "id": "11259134",
   "metadata": {},
   "outputs": [],
   "source": []
  }
 ],
 "metadata": {
  "kernelspec": {
   "display_name": "Python 3",
   "language": "python",
   "name": "python3"
  },
  "language_info": {
   "codemirror_mode": {
    "name": "ipython",
    "version": 3
   },
   "file_extension": ".py",
   "mimetype": "text/x-python",
   "name": "python",
   "nbconvert_exporter": "python",
   "pygments_lexer": "ipython3",
   "version": "3.8.8"
  }
 },
 "nbformat": 4,
 "nbformat_minor": 5
}
