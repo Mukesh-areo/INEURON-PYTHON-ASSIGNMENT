{
 "cells": [
  {
   "cell_type": "markdown",
   "id": "6ac6fa44",
   "metadata": {},
   "source": [
    "## PYTHON BASIC ASSIGNMENT -21"
   ]
  },
  {
   "cell_type": "markdown",
   "id": "0eb1429c",
   "metadata": {},
   "source": [
    "### 1. Add the current date to the text file today.txt as a string"
   ]
  },
  {
   "cell_type": "code",
   "execution_count": 5,
   "id": "e8e02e69",
   "metadata": {},
   "outputs": [
    {
     "data": {
      "text/plain": [
       "'2022-01-28'"
      ]
     },
     "execution_count": 5,
     "metadata": {},
     "output_type": "execute_result"
    }
   ],
   "source": [
    "import datetime\n",
    "from datetime import date\n",
    "now=date.today()\n",
    "cd=now.isoformat()\n",
    "cd"
   ]
  },
  {
   "cell_type": "code",
   "execution_count": 8,
   "id": "906ffb62",
   "metadata": {},
   "outputs": [],
   "source": [
    "with open ('today.txt','w') as file:\n",
    "    file.write(cd)\n"
   ]
  },
  {
   "cell_type": "markdown",
   "id": "5f04ce07",
   "metadata": {},
   "source": [
    "### 2. Read the text file today.txt into the string today_string\n"
   ]
  },
  {
   "cell_type": "code",
   "execution_count": 9,
   "id": "19f05de7",
   "metadata": {},
   "outputs": [
    {
     "data": {
      "text/plain": [
       "'2022-01-28'"
      ]
     },
     "execution_count": 9,
     "metadata": {},
     "output_type": "execute_result"
    }
   ],
   "source": [
    "with open ('today.txt','r') as file:\n",
    "    today_str=file.read()\n",
    "today_str\n",
    "    "
   ]
  },
  {
   "cell_type": "markdown",
   "id": "e457f74e",
   "metadata": {},
   "source": [
    "### 3. Parse the date from today_string."
   ]
  },
  {
   "cell_type": "code",
   "execution_count": 11,
   "id": "790a902c",
   "metadata": {},
   "outputs": [
    {
     "data": {
      "text/plain": [
       "datetime.datetime(2022, 1, 28, 0, 0)"
      ]
     },
     "execution_count": 11,
     "metadata": {},
     "output_type": "execute_result"
    }
   ],
   "source": [
    "from datetime import datetime\n",
    "format = '%Y-%m-%d'\n",
    "datetime.strptime(today_str,format)"
   ]
  },
  {
   "cell_type": "markdown",
   "id": "7251130c",
   "metadata": {},
   "source": [
    "### 4. List the files in your current directory"
   ]
  },
  {
   "cell_type": "code",
   "execution_count": 12,
   "id": "0b79d93c",
   "metadata": {},
   "outputs": [
    {
     "name": "stdout",
     "output_type": "stream",
     "text": [
      " Volume in drive C is OS\n",
      " Volume Serial Number is 34F0-334E\n",
      "\n",
      " Directory of C:\\Users\\info\n",
      "\n",
      "18/12/2021  11:26 AM           844,687  PYTHON BASIC ASSIGNMENT -10.ipynb\n",
      "28/01/2022  01:43 PM            11,755  PYTHON BASIC ASSIGNMENT -20.ipynb\n",
      "22/12/2021  02:05 PM             3,183  Python Programming Basic Assignment -1.ipynb\n",
      "28/01/2022  01:43 PM    <DIR>          .\n",
      "28/01/2022  01:43 PM    <DIR>          ..\n",
      "05/10/2021  12:29 PM    <DIR>          .anaconda\n",
      "05/04/2021  05:09 PM               184 .bash_history\n",
      "12/10/2021  04:50 PM    <DIR>          .conda\n",
      "06/10/2021  12:02 PM                43 .condarc\n",
      "06/10/2021  12:16 PM    <DIR>          .continuum\n",
      "04/01/2021  06:04 PM    <DIR>          .dbus-keyrings\n",
      "20/02/2020  12:30 PM    <DIR>          .espressif\n",
      "26/12/2021  04:07 PM               205 .gitconfig\n",
      "30/06/2020  09:50 PM    <DIR>          .idlerc\n",
      "28/01/2022  01:31 PM    <DIR>          .ipynb_checkpoints\n",
      "25/04/2021  09:15 PM    <DIR>          .ipython\n",
      "23/12/2021  10:08 AM    <DIR>          .jupyter\n",
      "11/12/2021  12:15 PM    <DIR>          .keras\n",
      "13/10/2021  10:43 AM    <DIR>          .matplotlib\n",
      "27/01/2022  01:52 PM    <DIR>          __pycache__\n",
      "26/12/2021  04:39 PM               206 _netrc\n",
      "15/01/2022  03:59 PM            57,909 1 Tuples , set , dict .ipynb\n",
      "24/12/2021  04:13 PM             7,146 1.ipynb\n",
      "15/01/2022  04:39 PM                 0 1223\n",
      "26/12/2021  08:35 PM            48,388 2  if else , for loop.ipynb\n",
      "26/12/2021  08:37 PM            25,286 3  for loops while loop.ipynb\n",
      "26/04/2021  02:53 PM    <DIR>          3D Objects\n",
      "06/10/2021  06:22 PM    <DIR>          anaconda3\n",
      "17/12/2021  02:30 PM             9,446 Assignment_12.docx\n",
      "28/01/2022  12:28 PM               207 books.csv\n",
      "28/01/2022  12:29 PM            20,480 books.db\n",
      "26/04/2021  02:53 PM    <DIR>          Contacts\n",
      "15/01/2022  04:39 PM                 0 ddfgfdf\n",
      "25/01/2022  12:47 PM    <DIR>          Desktop\n",
      "17/01/2022  01:50 PM    <DIR>          Documents\n",
      "28/01/2022  01:31 PM    <DIR>          Downloads\n",
      "29/08/2019  05:20 PM    <DIR>          Escon Dropbox\n",
      "24/12/2021  02:50 PM                 0 example.tsv\n",
      "26/04/2021  02:53 PM    <DIR>          Favorites\n",
      "15/01/2022  04:39 PM                 0 fhghgfhg\n",
      "25/12/2021  06:41 PM            51,260 FitBit data.csv\n",
      "30/12/2021  05:49 PM               563 function.LOG\n",
      "15/03/2021  12:29 PM               148 GrblController.log\n",
      "17/12/2021  02:35 PM            36,587 hellothere.docx\n",
      "24/12/2021  03:01 PM         1,065,747 IMG_20200925_125934.jpg\n",
      "13/12/2021  01:46 PM               283 insert.LOG\n",
      "26/04/2021  02:53 PM    <DIR>          Links\n",
      "11/12/2021  08:08 PM    <DIR>          LOG\n",
      "11/12/2021  08:07 PM    <DIR>          LOG1\n",
      "11/12/2021  07:53 PM    <DIR>          LOGGING\n",
      "11/12/2021  07:50 PM    <DIR>          LOGGING1\n",
      "18/12/2021  10:49 PM    <DIR>          logging12\n",
      "12/10/2021  09:53 AM    <DIR>          Microsoft\n",
      "02/11/2021  11:35 AM    <DIR>          Music\n",
      "29/04/2021  10:55 PM    <DIR>          my python\n",
      "17/12/2021  02:22 PM            23,023 NH7214241022714.pdf\n",
      "28/01/2022  10:10 AM    <DIR>          OneDrive\n",
      "24/12/2021  11:53 AM                 0 output.csv\n",
      "29/12/2021  10:50 AM    <DIR>          Pictures\n",
      "14/12/2021  10:34 AM    <DIR>          PycharmProjects\n",
      "17/12/2021  02:40 PM             8,800 PYTHON BASIC ASSIGNMENT -12.ipynb\n",
      "24/12/2021  02:53 PM            12,923 PYTHON BASIC ASSIGNMENT -13.ipynb\n",
      "05/12/2021  09:04 PM            12,891 Python basic assignment -2.ipynb\n",
      "14/12/2021  05:17 PM            11,874 PYTHON BASIC ASSIGNMENT -8.ipynb\n",
      "16/12/2021  01:54 PM             9,866 PYTHON BASIC ASSIGNMENT-11.ipynb\n",
      "24/12/2021  03:42 PM             4,978 PYTHON BASIC ASSIGNMENT-15.ipynb\n",
      "15/01/2022  01:32 PM            11,156 PYTHON BASIC ASSIGNMENT-16.ipynb\n",
      "15/01/2022  03:31 PM             8,408 PYTHON BASIC ASSIGNMENT-17.ipynb\n",
      "27/01/2022  04:52 PM            11,122 Python Basic assignment-19.ipynb\n",
      "08/12/2021  01:48 PM             9,986 PYTHON BASIC ASSIGNMENT-6.ipynb\n",
      "13/12/2021  05:07 PM            22,243 PYTHON BASIC ASSIGNMENT-7.ipynb\n",
      "14/12/2021  05:49 PM             5,544 PYTHON BASIC ASSIGNMENT-9.ipynb\n",
      "29/08/2018  06:15 AM    <DIR>          Roaming\n",
      "26/04/2021  02:53 PM    <DIR>          Saved Games\n",
      "26/04/2021  02:55 PM    <DIR>          Searches\n",
      "24/12/2021  11:51 AM             2,004 Team 2 17-08-21.csv\n",
      "14/12/2021  10:25 AM                76 test\n",
      "16/01/2022  12:39 PM               387 test.log\n",
      "28/01/2022  12:28 PM                44 test.txt\n",
      "16/01/2022  10:56 AM                22 test1.txt\n",
      "16/01/2022  12:43 PM                 0 test2.log\n",
      "16/01/2022  01:01 PM                 0 test3.log\n",
      "16/01/2022  01:12 PM                 0 test4.log\n",
      "16/01/2022  11:07 AM                 0 test43\n",
      "28/01/2022  01:40 PM                10 today.txt\n",
      "16/01/2022  01:15 PM            77,489 Untitled.ipynb\n",
      "22/12/2021  02:19 PM             5,068 Untitled2.ipynb\n",
      "25/12/2021  09:35 PM        18,154,825 Untitled3.ipynb\n",
      "15/01/2022  06:04 PM             3,739 Untitled4.ipynb\n",
      "17/01/2022  10:23 AM               576 Untitled5.ipynb\n",
      "04/12/2021  10:27 AM    <DIR>          Videos\n",
      "15/01/2022  08:45 PM               711 zoo.ipynb\n",
      "27/01/2022  01:52 PM                42 zoo.py\n",
      "              55 File(s)     20,581,520 bytes\n",
      "              38 Dir(s)  74,606,665,728 bytes free\n"
     ]
    }
   ],
   "source": [
    "ls"
   ]
  },
  {
   "cell_type": "code",
   "execution_count": 13,
   "id": "d5745177",
   "metadata": {},
   "outputs": [
    {
     "data": {
      "text/plain": [
       "[' PYTHON BASIC ASSIGNMENT -10.ipynb',\n",
       " ' PYTHON BASIC ASSIGNMENT -20.ipynb',\n",
       " ' Python Programming Basic Assignment -1.ipynb',\n",
       " '.anaconda',\n",
       " '.bash_history',\n",
       " '.conda',\n",
       " '.condarc',\n",
       " '.continuum',\n",
       " '.dbus-keyrings',\n",
       " '.espressif',\n",
       " '.gitconfig',\n",
       " '.idlerc',\n",
       " '.ipynb_checkpoints',\n",
       " '.ipython',\n",
       " '.jupyter',\n",
       " '.keras',\n",
       " '.matplotlib',\n",
       " '1 Tuples , set , dict .ipynb',\n",
       " '1.ipynb',\n",
       " '1223',\n",
       " '2  if else , for loop.ipynb',\n",
       " '3  for loops while loop.ipynb',\n",
       " '3D Objects',\n",
       " 'anaconda3',\n",
       " 'AppData',\n",
       " 'Application Data',\n",
       " 'Assignment_12.docx',\n",
       " 'books.csv',\n",
       " 'books.db',\n",
       " 'Contacts',\n",
       " 'Cookies',\n",
       " 'ddfgfdf',\n",
       " 'Desktop',\n",
       " 'Documents',\n",
       " 'Downloads',\n",
       " 'Escon Dropbox',\n",
       " 'example.tsv',\n",
       " 'Favorites',\n",
       " 'fhghgfhg',\n",
       " 'FitBit data.csv',\n",
       " 'function.LOG',\n",
       " 'GrblController.log',\n",
       " 'hellothere.docx',\n",
       " 'IMG_20200925_125934.jpg',\n",
       " 'insert.LOG',\n",
       " 'IntelGraphicsProfiles',\n",
       " 'Links',\n",
       " 'Local Settings',\n",
       " 'LOG',\n",
       " 'LOG1',\n",
       " 'LOGGING',\n",
       " 'LOGGING1',\n",
       " 'logging12',\n",
       " 'Microsoft',\n",
       " 'MicrosoftEdgeBackups',\n",
       " 'Music',\n",
       " 'My Documents',\n",
       " 'my python',\n",
       " 'NetHood',\n",
       " 'NH7214241022714.pdf',\n",
       " 'NTUSER.DAT',\n",
       " 'ntuser.dat.LOG1',\n",
       " 'ntuser.dat.LOG2',\n",
       " 'NTUSER.DAT{f3b12db9-a66d-11eb-b17b-b589a47e7574}.TM.blf',\n",
       " 'NTUSER.DAT{f3b12db9-a66d-11eb-b17b-b589a47e7574}.TMContainer00000000000000000001.regtrans-ms',\n",
       " 'NTUSER.DAT{f3b12db9-a66d-11eb-b17b-b589a47e7574}.TMContainer00000000000000000002.regtrans-ms',\n",
       " 'ntuser.ini',\n",
       " 'OneDrive',\n",
       " 'output.csv',\n",
       " 'Pictures',\n",
       " 'PrintHood',\n",
       " 'PycharmProjects',\n",
       " 'PYTHON BASIC ASSIGNMENT -12.ipynb',\n",
       " 'PYTHON BASIC ASSIGNMENT -13.ipynb',\n",
       " 'Python basic assignment -2.ipynb',\n",
       " 'PYTHON BASIC ASSIGNMENT -8.ipynb',\n",
       " 'PYTHON BASIC ASSIGNMENT-11.ipynb',\n",
       " 'PYTHON BASIC ASSIGNMENT-15.ipynb',\n",
       " 'PYTHON BASIC ASSIGNMENT-16.ipynb',\n",
       " 'PYTHON BASIC ASSIGNMENT-17.ipynb',\n",
       " 'Python Basic assignment-19.ipynb',\n",
       " 'PYTHON BASIC ASSIGNMENT-6.ipynb',\n",
       " 'PYTHON BASIC ASSIGNMENT-7.ipynb',\n",
       " 'PYTHON BASIC ASSIGNMENT-9.ipynb',\n",
       " 'Recent',\n",
       " 'Roaming',\n",
       " 'Saved Games',\n",
       " 'Searches',\n",
       " 'SendTo',\n",
       " 'Start Menu',\n",
       " 'Team 2 17-08-21.csv',\n",
       " 'Templates',\n",
       " 'test',\n",
       " 'test.log',\n",
       " 'test.txt',\n",
       " 'test1.txt',\n",
       " 'test2.log',\n",
       " 'test3.log',\n",
       " 'test4.log',\n",
       " 'test43',\n",
       " 'today.txt',\n",
       " 'Untitled.ipynb',\n",
       " 'Untitled2.ipynb',\n",
       " 'Untitled3.ipynb',\n",
       " 'Untitled4.ipynb',\n",
       " 'Untitled5.ipynb',\n",
       " 'Videos',\n",
       " 'zoo.ipynb',\n",
       " 'zoo.py',\n",
       " '_netrc',\n",
       " '__pycache__']"
      ]
     },
     "execution_count": 13,
     "metadata": {},
     "output_type": "execute_result"
    }
   ],
   "source": [
    "import os\n",
    "os.listdir('.')"
   ]
  },
  {
   "cell_type": "markdown",
   "id": "22d11e22",
   "metadata": {},
   "source": [
    "### 5. Create a list of all of the files in your parent directory (minimum five files should be available)"
   ]
  },
  {
   "cell_type": "code",
   "execution_count": 14,
   "id": "6f813412",
   "metadata": {},
   "outputs": [
    {
     "data": {
      "text/plain": [
       "['91917',\n",
       " 'All Users',\n",
       " 'Default',\n",
       " 'Default User',\n",
       " 'desktop.ini',\n",
       " 'info',\n",
       " 'Public']"
      ]
     },
     "execution_count": 14,
     "metadata": {},
     "output_type": "execute_result"
    }
   ],
   "source": [
    "os.listdir('..')"
   ]
  },
  {
   "cell_type": "markdown",
   "id": "98716162",
   "metadata": {},
   "source": [
    "### 6. Use multiprocessing to create three separate processes. Make each one wait a random number of seconds between one and five, print the current time, and then exit."
   ]
  },
  {
   "cell_type": "code",
   "execution_count": 15,
   "id": "61c03ecf",
   "metadata": {},
   "outputs": [],
   "source": [
    "import multiprocessing\n",
    "\n",
    "def printsec(seconds):\n",
    "    from datetime import datetime\n",
    "    from time import sleep\n",
    "    sleep(seconds)\n",
    "    print('wait', seconds, 'seconds, time is', datetime.utcnow())\n",
    "    \n",
    "if __name__ == '__main__':\n",
    "    import random    \n",
    "    for n in range(3):\n",
    "        seconds = random.random()\n",
    "        proc = multiprocessing.Process(target=printsec, args=(seconds,))\n",
    "        proc.start()"
   ]
  },
  {
   "cell_type": "code",
   "execution_count": 19,
   "id": "f4c653d4",
   "metadata": {},
   "outputs": [],
   "source": [
    "!python zoo.py"
   ]
  },
  {
   "cell_type": "markdown",
   "id": "57e9111c",
   "metadata": {},
   "source": [
    "### 7. Create a date object of your day of birth.\n"
   ]
  },
  {
   "cell_type": "code",
   "execution_count": 23,
   "id": "921d4b60",
   "metadata": {},
   "outputs": [
    {
     "data": {
      "text/plain": [
       "datetime.date(1997, 9, 1)"
      ]
     },
     "execution_count": 23,
     "metadata": {},
     "output_type": "execute_result"
    }
   ],
   "source": [
    "my_dob=date(1997,9,1)\n",
    "my_dob"
   ]
  },
  {
   "cell_type": "markdown",
   "id": "48f4b93e",
   "metadata": {},
   "source": [
    "### 8. What day of the week was your day of birth?"
   ]
  },
  {
   "cell_type": "code",
   "execution_count": 26,
   "id": "d69abd57",
   "metadata": {},
   "outputs": [
    {
     "data": {
      "text/plain": [
       "0"
      ]
     },
     "execution_count": 26,
     "metadata": {},
     "output_type": "execute_result"
    }
   ],
   "source": [
    "my_dob.weekday()"
   ]
  },
  {
   "cell_type": "markdown",
   "id": "aa1693fb",
   "metadata": {},
   "source": [
    "### 9. When will you be (or when were you) 10,000 days old?\n"
   ]
  },
  {
   "cell_type": "code",
   "execution_count": 28,
   "id": "3d759e40",
   "metadata": {},
   "outputs": [
    {
     "data": {
      "text/plain": [
       "datetime.date(2025, 1, 17)"
      ]
     },
     "execution_count": 28,
     "metadata": {},
     "output_type": "execute_result"
    }
   ],
   "source": [
    "from datetime import timedelta\n",
    "day10000 = my_dob + timedelta(days=10000)\n",
    "day10000"
   ]
  }
 ],
 "metadata": {
  "kernelspec": {
   "display_name": "Python 3",
   "language": "python",
   "name": "python3"
  },
  "language_info": {
   "codemirror_mode": {
    "name": "ipython",
    "version": 3
   },
   "file_extension": ".py",
   "mimetype": "text/x-python",
   "name": "python",
   "nbconvert_exporter": "python",
   "pygments_lexer": "ipython3",
   "version": "3.8.8"
  }
 },
 "nbformat": 4,
 "nbformat_minor": 5
}
