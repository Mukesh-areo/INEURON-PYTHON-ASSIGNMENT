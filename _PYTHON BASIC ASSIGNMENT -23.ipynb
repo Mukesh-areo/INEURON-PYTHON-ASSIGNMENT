{
 "cells": [
  {
   "cell_type": "markdown",
   "id": "6ac6fa44",
   "metadata": {},
   "source": [
    "## PYTHON BASIC ASSIGNMENT -23"
   ]
  },
  {
   "cell_type": "markdown",
   "id": "0eb1429c",
   "metadata": {},
   "source": [
    "### 1. What is the result of the code, and why?\n",
    "    def func(a, b=6, c=8):\n",
    "        print(a, b, c)\n",
    "    func(1, 2)\n",
    "Answer:\n",
    "   This funtion is taking a positional argument and 2 keyward argument. When function call m=is made, parameter passed \n",
    "   are a=1,b=2. When the function is executed , parameter c=8 will be taken by default as its a keyword argument.\n",
    "   solurion is = 1,2,8"
   ]
  },
  {
   "cell_type": "code",
   "execution_count": 38,
   "id": "79089f07",
   "metadata": {},
   "outputs": [
    {
     "name": "stdout",
     "output_type": "stream",
     "text": [
      "1 2 8\n"
     ]
    }
   ],
   "source": [
    "def func(a, b=6, c=8):\n",
    "    print(a, b, c)\n",
    "func(1, 2)"
   ]
  },
  {
   "cell_type": "markdown",
   "id": "ad095834",
   "metadata": {},
   "source": [
    "### 2. What is the result of this code, and why?\n",
    "    def func(a, b, c=5):\n",
    "        print(a, b, c)\n",
    "    func(1, c=3, b=2)\n",
    "\n",
    "Answer:\n",
    "When we make function call, order will be positional argument and then keywords arguments. we can pass the keyword arguments in any order we want.\n",
    "Solution is 1,2,3\n"
   ]
  },
  {
   "cell_type": "code",
   "execution_count": 39,
   "id": "331e643f",
   "metadata": {},
   "outputs": [
    {
     "name": "stdout",
     "output_type": "stream",
     "text": [
      "1 2 3\n"
     ]
    }
   ],
   "source": [
    "def func(a, b, c=5):\n",
    "    print(a, b, c)\n",
    "func(1, c=3, b=2)"
   ]
  },
  {
   "cell_type": "markdown",
   "id": "5f04ce07",
   "metadata": {},
   "source": [
    "### 3. How about this code: what is its result, and why?\n",
    "    def func(a, *pargs):\n",
    "        print(a, pargs)\n",
    "    func(1, 2, 3)\n",
    "\n",
    "Answer:\n",
    "The return type of *args parameter is tuple, where as **kargs will be dictionary\n",
    "solution is = 1,(2,3)"
   ]
  },
  {
   "cell_type": "code",
   "execution_count": 40,
   "id": "3cd374ae",
   "metadata": {},
   "outputs": [
    {
     "name": "stdout",
     "output_type": "stream",
     "text": [
      "1 (2, 3)\n"
     ]
    }
   ],
   "source": [
    "def func(a, *pargs):\n",
    "    print(a, pargs)\n",
    "func(1, 2, 3)"
   ]
  },
  {
   "cell_type": "markdown",
   "id": "4a9fcb44",
   "metadata": {},
   "source": [
    "### 4. What does this code print, and why?\n",
    "    def func(a, **kargs):\n",
    "        print(a, kargs)\n",
    "    func(a=1, c=3, b=2)\n",
    "Answer :\n",
    "The return type of  **kargs is  dictionary\n",
    "solution is = 1,{'c':3,'b':2}"
   ]
  },
  {
   "cell_type": "code",
   "execution_count": 41,
   "id": "3bd94aee",
   "metadata": {},
   "outputs": [
    {
     "name": "stdout",
     "output_type": "stream",
     "text": [
      "1 {'c': 3, 'b': 2}\n"
     ]
    }
   ],
   "source": [
    "def func(a, **kargs):\n",
    "    print(a, kargs)\n",
    "func(a=1, c=3, b=2)"
   ]
  },
  {
   "cell_type": "markdown",
   "id": "a0307e69",
   "metadata": {},
   "source": [
    "### 5. What gets printed by this, and explain?\n",
    "    def func(a, b, c=8, d=5): \n",
    "        print(a, b, c, d)\n",
    "    func(1, *(5, 6))\n",
    "    \n",
    "Answer :\n",
    "    '*' is the unpacking operator and are operators that unpack the values from iterable objects in Python. The single \n",
    "    asterisk operator * can be used on any iterable that Python provides, while the double asterisk operator ** can only \n",
    "    be used on dictionaries. In the example the value *(5,6) will be unpacked and will be assigned to b and c and passed \n",
    "    as arguments, d =5 will taken by defaults are keyword arguments.\n",
    "\n",
    "    Solution 1,5,6,5"
   ]
  },
  {
   "cell_type": "code",
   "execution_count": 42,
   "id": "66d32ad7",
   "metadata": {},
   "outputs": [
    {
     "name": "stdout",
     "output_type": "stream",
     "text": [
      "1 5 6 5\n"
     ]
    }
   ],
   "source": [
    "def func(a, b, c=8, d=5): \n",
    "    print(a, b, c, d)\n",
    "func(1, *(5, 6))"
   ]
  },
  {
   "cell_type": "markdown",
   "id": "22d11e22",
   "metadata": {},
   "source": [
    "### 6. what is the result of this, and explain?\n",
    "    def func(a, b, c): \n",
    "        a = 2; b[0] = 'x'; c['a'] = 'y'\n",
    "\n",
    "        l=1; m=[1]; n={'a':0}\n",
    "        print(l,m,n)\n",
    "    func(l, m, n)\n",
    "\n",
    "    l, m, n\n",
    "\n",
    "Answer:\n",
    "Here in the code, the list and dict are passed as argument, and those are mutable. Here the list l and parametr b point \n",
    "to the same list in the memeory location where as dict n and c point to the same memory location. Any updates to this \n",
    "list will update in the memory location\n",
    "\n",
    "l = 1 , integer values, immutable, m is list, mutable, n is dict, mutable.\n",
    "output will be = 1,['x'],{'a':'y'}"
   ]
  },
  {
   "cell_type": "code",
   "execution_count": 45,
   "id": "264ad6ee",
   "metadata": {},
   "outputs": [
    {
     "data": {
      "text/plain": [
       "(1, ['x'], {'a': 'y'})"
      ]
     },
     "execution_count": 45,
     "metadata": {},
     "output_type": "execute_result"
    }
   ],
   "source": [
    "def func(a, b, c): \n",
    "    a = 2; b[0] = 'x'; c['a'] = 'y'\n",
    "    \n",
    "l=1; m=[1]; n={'a':0}\n",
    "func(l, m, n)\n",
    "\n",
    "l, m, n"
   ]
  }
 ],
 "metadata": {
  "kernelspec": {
   "display_name": "Python 3",
   "language": "python",
   "name": "python3"
  },
  "language_info": {
   "codemirror_mode": {
    "name": "ipython",
    "version": 3
   },
   "file_extension": ".py",
   "mimetype": "text/x-python",
   "name": "python",
   "nbconvert_exporter": "python",
   "pygments_lexer": "ipython3",
   "version": "3.8.8"
  }
 },
 "nbformat": 4,
 "nbformat_minor": 5
}
